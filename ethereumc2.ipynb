{
 "cells": [
  {
   "cell_type": "code",
   "execution_count": null,
   "metadata": {},
   "outputs": [],
   "source": [
    "import os\n",
    "import base64\n",
    "from Crypto.Cipher import AES\n",
    "from web3 import Web3, HTTPProvider"
   ]
  },
  {
   "cell_type": "code",
   "execution_count": null,
   "metadata": {},
   "outputs": [],
   "source": [
    "#encrpyt\n",
    "\n",
    "\n",
    "def encrypt(message, key):\n",
    "    # generate a random IV\n",
    "    iv = os.urandom(16)\n",
    "\n",
    "    # create a new AES cipher\n",
    "    cipher = AES.new(key, AES.MODE_CBC, iv)\n",
    "\n",
    "    # pad the message to be a multiple of 16 bytes\n",
    "    padded_message = message + b' ' * (16 - len(message) % 16)\n",
    "\n",
    "    # encrypt the padded message\n",
    "    encrypted_message = cipher.encrypt(padded_message)\n",
    "\n",
    "    # return the IV and the encrypted message\n",
    "    return base64.b64encode(iv + encrypted_message)\n",
    "\n",
    "# read the message to encrypt from the user\n",
    "message = input(\"Enter a message to encrypt: \")\n",
    "\n",
    "# encrypt the message with the key \"password\"\n",
    "encrypted_message = encrypt(message.encode('utf-8'), b\"passwordpasswordpasswordpassword\")\n",
    "\n",
    "# print the encrypted message\n",
    "print(\"Encrypted message:\", encrypted_message) "
   ]
  },
  {
   "cell_type": "code",
   "execution_count": null,
   "metadata": {},
   "outputs": [],
   "source": [
    "w3 = Web3(HTTPProvider('http://127.0.0.1:8545'))\n",
    "\n",
    "print(w3.isConnected())\n",
    "\n",
    "#put encrypted message into hex from\n",
    "hexstring = (encrypted_message.hex())\n",
    "\n",
    "\n",
    "signed_txn = w3.eth.account.sign_transaction(dict(\n",
    "    nonce=w3.eth.get_transaction_count(\"<from public key>\"),\n",
    "    maxFeePerGas=3000000000,\n",
    "    maxPriorityFeePerGas=2000000000,\n",
    "    gas=1000000,\n",
    "    to='<to public key>',\n",
    "    value=500000,\n",
    "    data=(hexstring),\n",
    "    type=2,\n",
    "    chainId=1337,\n",
    "  ),\n",
    "  \"<private key>\",\n",
    ")\n",
    "txHash = w3.eth.send_raw_transaction(signed_txn.rawTransaction)\n",
    "print(w3.toHex(txHash))"
   ]
  },
  {
   "cell_type": "code",
   "execution_count": null,
   "metadata": {},
   "outputs": [],
   "source": [
    "\n",
    "\n",
    "# Connect to local Ethereum node\n",
    "w3 = Web3(Web3.HTTPProvider(\"http://127.0.0.1:8545\"))\n",
    "\n",
    "#pull latest block \n",
    "block = w3.eth.getBlock('latest')\n",
    "#print(block)\n",
    "\n",
    "#parse transactions out of block\n",
    "transactions = block['transactions']\n",
    "\n",
    "#filter transactions to only those sent to the contract address public key of account to monitor>\n",
    "contract_transactions = []\n",
    "for tx in transactions:\n",
    "    tx_data = w3.eth.getTransaction(tx)\n",
    "    if tx_data['to'] == '<account to monitor public key>':\n",
    "        contract_transactions.append(tx_data)\n",
    "\n",
    "        #print output\n",
    "encryptedpayload = (bytes.fromhex(tx_data['input'][2:]).decode('utf-8'))\n"
   ]
  },
  {
   "cell_type": "code",
   "execution_count": null,
   "metadata": {},
   "outputs": [],
   "source": [
    "#decrypt\n",
    "\n",
    "\n",
    "def decrypt(encrypted_message, key):\n",
    "    # decode the IV and encrypted message from the base64 encoded string\n",
    "    iv_and_encrypted_message = base64.b64decode(encrypted_message)\n",
    "\n",
    "    # extract the IV and encrypted message\n",
    "    iv = iv_and_encrypted_message[:16]\n",
    "    encrypted_message = iv_and_encrypted_message[16:]\n",
    "\n",
    "    # create a new AES cipher\n",
    "    cipher = AES.new(key, AES.MODE_CBC, iv)\n",
    "\n",
    "    # decrypt the message\n",
    "    decrypted_message = cipher.decrypt(encrypted_message)\n",
    "\n",
    "    # return the decrypted message\n",
    "    return decrypted_message\n",
    "\n",
    "# read the encrypted message to decrypt from the user\n",
    "encrypted_message = encryptedpayload\n",
    "\n",
    "# decrypt the message with the key \"password\" has to be 32 bytes long\n",
    "decrypted_message = decrypt(encrypted_message, b\"passwordpasswordpasswordpassword\")\n",
    "\n",
    "# print the decrypted message\n",
    "print(\"Decrypted message:\", decrypted_message.decode('utf-8'))"
   ]
  }
 ],
 "metadata": {
  "kernelspec": {
   "display_name": "Python 3.10.6 64-bit",
   "language": "python",
   "name": "python3"
  },
  "language_info": {
   "codemirror_mode": {
    "name": "ipython",
    "version": 3
   },
   "file_extension": ".py",
   "mimetype": "text/x-python",
   "name": "python",
   "nbconvert_exporter": "python",
   "pygments_lexer": "ipython3",
   "version": "3.10.6"
  },
  "orig_nbformat": 4,
  "vscode": {
   "interpreter": {
    "hash": "916dbcbb3f70747c44a77c7bcd40155683ae19c65e1c03b4aa3499c5328201f1"
   }
  }
 },
 "nbformat": 4,
 "nbformat_minor": 2
}
